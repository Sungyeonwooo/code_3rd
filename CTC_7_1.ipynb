{
  "nbformat": 4,
  "nbformat_minor": 0,
  "metadata": {
    "colab": {
      "provenance": [],
      "authorship_tag": "ABX9TyNymsefKpMsTE+eBJUQcBFS",
      "include_colab_link": true
    },
    "kernelspec": {
      "name": "python3",
      "display_name": "Python 3"
    },
    "language_info": {
      "name": "python"
    }
  },
  "cells": [
    {
      "cell_type": "markdown",
      "metadata": {
        "id": "view-in-github",
        "colab_type": "text"
      },
      "source": [
        "<a href=\"https://colab.research.google.com/github/Sungyeonwooo/code_3rd/blob/main/CTC_7_1.ipynb\" target=\"_parent\"><img src=\"https://colab.research.google.com/assets/colab-badge.svg\" alt=\"Open In Colab\"/></a>"
      ]
    },
    {
      "cell_type": "markdown",
      "source": [
        "1. 사용자로부터 3개의 값(x,y,z)를 입력받아서 각각 1씩 증가되고, 출력되는 코드작성"
      ],
      "metadata": {
        "id": "tnDZB3bEG5Vr"
      }
    },
    {
      "cell_type": "code",
      "execution_count": 3,
      "metadata": {
        "colab": {
          "base_uri": "https://localhost:8080/"
        },
        "id": "93bBR0CTG4f9",
        "outputId": "a91b09dd-80e9-43e0-9798-e5792da2f9c6"
      },
      "outputs": [
        {
          "output_type": "stream",
          "name": "stdout",
          "text": [
            "X의 값을 입력하시오.: 1\n",
            "Y의 값을 입력하시오.: 2\n",
            "Z의 값을 입력하시오.: 3\n",
            "X의 값은 2이며, Y의 값은 3이고, Z의 값은 4이다. \n"
          ]
        }
      ],
      "source": [
        "X = int(input(\"X의 값을 입력하시오.: \"))\n",
        "Y = int(input(\"Y의 값을 입력하시오.: \"))\n",
        "Z = int(input(\"Z의 값을 입력하시오.: \"))\n",
        "X = X + 1\n",
        "Y = Y + 1\n",
        "Z = Z + 1\n",
        "print(f'X의 값은 {X}이며, Y의 값은 {Y}이고, Z의 값은 {Z}이다. ')"
      ]
    },
    {
      "cell_type": "markdown",
      "source": [
        "2. 알바생의 시급과 시간을 계산하여 월급을 출력하는 코드"
      ],
      "metadata": {
        "id": "hHpJoH_dJLp1"
      }
    },
    {
      "cell_type": "code",
      "source": [
        "hours_worked = int(input(\"일한 시간을 입력하시오: \"))\n",
        "pay_rate = int(input(\"시급을 입력하시오(23기준 9620원): \"))\n",
        "montly_pay = hours_worked * pay_rate\n",
        "print(f'일한 시간은 {hours_worked}이고, 시급은 {pay_rate}원이며, 월급여는 {montly_pay}원 입니다. ')"
      ],
      "metadata": {
        "colab": {
          "base_uri": "https://localhost:8080/"
        },
        "id": "WDBn80stJdNI",
        "outputId": "95880233-e95d-4357-de68-9362f28ff4a9"
      },
      "execution_count": 7,
      "outputs": [
        {
          "output_type": "stream",
          "name": "stdout",
          "text": [
            "일한 시간을 입력하시오: 10\n",
            "시급을 입력하시오(23기준 9620원): 9620\n",
            "일한 시간은 10이고, 시급은 9620원이며, 월급여는 96200원 입니다. \n"
          ]
        }
      ]
    },
    {
      "cell_type": "markdown",
      "source": [
        "3. 환율계산하는 코드작성\n",
        " - 원의 변수는 won\n",
        " - 달러의 변수는 usd\n",
        " - 환전의 변수는 exchange"
      ],
      "metadata": {
        "id": "FMZP5AY3LlYK"
      }
    },
    {
      "cell_type": "code",
      "source": [
        "won = int(input(\"환전할 금액을 입력(kor): \"))\n",
        "usd = int(input(\"현재 달러의 환율 입력(231031: 1372): \"))\n",
        "usd = won * exchange\n",
        "print(f'환전할 금액은 {won}이며, 달러 금액은 {exchange}이고, 환전금액은 {usd}입니다. ')"
      ],
      "metadata": {
        "colab": {
          "base_uri": "https://localhost:8080/"
        },
        "id": "hfwfWZ-fL7qz",
        "outputId": "892e088a-a7c9-4486-c1cb-4cdc15e6ca85"
      },
      "execution_count": 22,
      "outputs": [
        {
          "output_type": "stream",
          "name": "stdout",
          "text": [
            "환전할 금액을 입력(kor): 5000\n",
            "현재 달러의 환율 입력(231031: 1372): 1372\n",
            "환전할 금액은 5000이며, 달러 금액은 6860000이고, 환전금액은 34300000000입니다. \n"
          ]
        }
      ]
    },
    {
      "cell_type": "markdown",
      "source": [
        "4. 화씨(fahrenheit)를 섭씨(celsius)로 변환하는 코드작성"
      ],
      "metadata": {
        "id": "8GaHgjvhN8zt"
      }
    },
    {
      "cell_type": "code",
      "source": [
        "fahrenheit = int(input(\"화씨온도를 입력하시오.: \"))\n",
        "celsius = (fahrenheit -32) // 1.8\n",
        "print(f'화씨 온도는 {fahrenheit}도는, 섭씨 {celsius}도 입니다. ')"
      ],
      "metadata": {
        "colab": {
          "base_uri": "https://localhost:8080/"
        },
        "id": "ZbX_m3PyOU1B",
        "outputId": "31f9cc35-5fb4-4c48-88cb-68777982475c"
      },
      "execution_count": 11,
      "outputs": [
        {
          "output_type": "stream",
          "name": "stdout",
          "text": [
            "화씨온도를 입력하시오.: 100\n",
            "화씨 온도는 100도는, 섭씨 37.0도 입니다. \n"
          ]
        }
      ]
    },
    {
      "cell_type": "code",
      "source": [
        "celsius = int(input(\"섭씨온도를 입력하시오.: \"))\n",
        "fahrenheit = celsius * 1.8 + 32\n",
        "print(f'섭씨 온도는 {celsius}도는, 화씨 {fahrenheit}도 입니다. ')"
      ],
      "metadata": {
        "colab": {
          "base_uri": "https://localhost:8080/"
        },
        "id": "OvaBgsy0Prh3",
        "outputId": "9571f070-502c-4390-e716-0d2455627fe7"
      },
      "execution_count": 12,
      "outputs": [
        {
          "output_type": "stream",
          "name": "stdout",
          "text": [
            "섭씨온도를 입력하시오.: 37\n",
            "섭씨 온도는 37도는, 화씨 98.60000000000001도 입니다. \n"
          ]
        }
      ]
    },
    {
      "cell_type": "markdown",
      "source": [
        "5.사용자로부터 2개의 정수를 받아서 합계를 출력"
      ],
      "metadata": {
        "id": "XfkWbpr_U4iB"
      }
    },
    {
      "cell_type": "code",
      "source": [
        "print(\"정수 2개를 입력하시오. \")\n",
        "x = int(input(\"x의 값을 입력하시오.: \"))\n",
        "y = int(input(\"y의 값을 입력하시오.: \"))\n",
        "sum = x + y\n",
        "print(\"x + y의 합계는\", sum)"
      ],
      "metadata": {
        "colab": {
          "base_uri": "https://localhost:8080/"
        },
        "id": "g52ihcSYU-9N",
        "outputId": "1a849a7c-eb0d-4177-b9e9-6ad053336aea"
      },
      "execution_count": 24,
      "outputs": [
        {
          "output_type": "stream",
          "name": "stdout",
          "text": [
            "정수 2개를 입력하시오. \n",
            "x의 값을 입력하시오.: 15\n",
            "y의 값을 입력하시오.: 15\n",
            "x + y의 합계는 30\n"
          ]
        }
      ]
    },
    {
      "cell_type": "markdown",
      "source": [
        "6. 부가세 계산"
      ],
      "metadata": {
        "id": "3R5FMjuGXWH5"
      }
    },
    {
      "cell_type": "code",
      "source": [
        "print(\"상품의 가격을 입력하시오. \")\n",
        "price = int(input(\"가격을 입력하시오. \"))\n",
        "vat = price * 0.1\n",
        "print(\"해당 가격의 vat 값은\", vat, \"이다\")"
      ],
      "metadata": {
        "colab": {
          "base_uri": "https://localhost:8080/"
        },
        "id": "z97ho6EbXl4S",
        "outputId": "dbbb03ec-bbc6-4c61-cc64-ee5e492f8fa9"
      },
      "execution_count": 28,
      "outputs": [
        {
          "output_type": "stream",
          "name": "stdout",
          "text": [
            "상품의 가격을 입력하시오. \n",
            "가격을 입력하시오. 5000\n",
            "해당 가격의 vat 값은 500.0 이다\n"
          ]
        }
      ]
    }
  ]
}