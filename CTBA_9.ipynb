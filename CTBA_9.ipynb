{
  "nbformat": 4,
  "nbformat_minor": 0,
  "metadata": {
    "colab": {
      "provenance": [],
      "authorship_tag": "ABX9TyNTVpRBpF3OAXQyrKO/e+9G",
      "include_colab_link": true
    },
    "kernelspec": {
      "name": "python3",
      "display_name": "Python 3"
    },
    "language_info": {
      "name": "python"
    }
  },
  "cells": [
    {
      "cell_type": "markdown",
      "metadata": {
        "id": "view-in-github",
        "colab_type": "text"
      },
      "source": [
        "<a href=\"https://colab.research.google.com/github/Sungyeonwooo/code_3rd/blob/main/CTBA_9.ipynb\" target=\"_parent\"><img src=\"https://colab.research.google.com/assets/colab-badge.svg\" alt=\"Open In Colab\"/></a>"
      ]
    },
    {
      "cell_type": "markdown",
      "source": [
        "1. 두가지 이상의 선택, 다방향 선택구조 코딩\n",
        " - 배송료처리 3가지로 작성\n",
        " - 변수 price, 가격 10만원이상 0원\n",
        " 2만원이상 3000원, 그 외 5천원"
      ],
      "metadata": {
        "id": "GzpnW5hiMPaP"
      }
    },
    {
      "cell_type": "code",
      "source": [
        "print(\"배송료는 계산합니다.\")\n",
        "print(\"# * 30\")\n",
        "price = int(input(\"구입 금액 입력: \"))\n",
        "if price >= 100000:\n",
        "  shipping_cost = 0\n",
        "else:\n",
        "    if price >= 20000:\n",
        "      shipping_cost = 3000\n",
        "    else:\n",
        "      shipping_cost = 5000\n",
        "print(f\"배송료는 {shipping_cost} 입니다.\")"
      ],
      "metadata": {
        "colab": {
          "base_uri": "https://localhost:8080/"
        },
        "id": "7dDp_8lyM5qI",
        "outputId": "ab1e0a86-3cac-4e31-c251-573d277de268"
      },
      "execution_count": 21,
      "outputs": [
        {
          "output_type": "stream",
          "name": "stdout",
          "text": [
            "배송료는 계산합니다.\n",
            "# * 30\n",
            "구입 금액 입력: 19000\n",
            "배송료는 5000 입니다.\n"
          ]
        }
      ]
    },
    {
      "cell_type": "markdown",
      "source": [
        "2. 환영합니다. 5번 출력, 10번 출력, 30번 출력\n"
      ],
      "metadata": {
        "id": "Uqd901o-OY6_"
      }
    },
    {
      "cell_type": "code",
      "source": [
        "print(\"환영합니다.\")\n",
        "print(\"환영합니다.\")\n",
        "print(\"환영합니다.\")\n",
        "print(\"환영합니다.\")\n",
        "print(\"환영합니다.\")"
      ],
      "metadata": {
        "colab": {
          "base_uri": "https://localhost:8080/"
        },
        "id": "6LqRVH1lOh6p",
        "outputId": "a5ac2a31-4b65-4eae-9a9a-4eeda26f26d5"
      },
      "execution_count": 10,
      "outputs": [
        {
          "output_type": "stream",
          "name": "stdout",
          "text": [
            "환영합니다.\n",
            "환영합니다.\n",
            "환영합니다.\n",
            "환영합니다.\n",
            "환영합니다.\n"
          ]
        }
      ]
    },
    {
      "cell_type": "code",
      "source": [
        "print(\"환영합니다.\\n\" * 5)"
      ],
      "metadata": {
        "colab": {
          "base_uri": "https://localhost:8080/"
        },
        "id": "DXN51OvsOucI",
        "outputId": "c8dbed93-00b1-4db6-c71d-f8158b65dd87"
      },
      "execution_count": 12,
      "outputs": [
        {
          "output_type": "stream",
          "name": "stdout",
          "text": [
            "환영합니다.\n",
            "환영합니다.\n",
            "환영합니다.\n",
            "환영합니다.\n",
            "환영합니다.\n",
            "\n"
          ]
        }
      ]
    },
    {
      "cell_type": "code",
      "source": [
        "count = 1\n",
        "while count  <= 5:\n",
        "  print(\"(\", count, \")\",  \"환영합니다.\")\n",
        "  print(F'({count})', \"환영합니다.\" )\n",
        "  count += 1\n",
        ""
      ],
      "metadata": {
        "colab": {
          "base_uri": "https://localhost:8080/"
        },
        "id": "fxn4izmKSj4i",
        "outputId": "8d2c719f-a4d2-4fb8-bfc2-c0ffc6ed825c"
      },
      "execution_count": 23,
      "outputs": [
        {
          "output_type": "stream",
          "name": "stdout",
          "text": [
            "( 0 ) 환영합니다.\n",
            "( 1 ) 환영합니다.\n",
            "( 2 ) 환영합니다.\n",
            "( 3 ) 환영합니다.\n",
            "( 4 ) 환영합니다.\n",
            "( 5 ) 환영합니다.\n"
          ]
        }
      ]
    },
    {
      "cell_type": "markdown",
      "source": [
        "3. 0부터 9까지 출력하기 변수 x"
      ],
      "metadata": {
        "id": "_S4ykQRrV4bm"
      }
    },
    {
      "cell_type": "code",
      "source": [
        " x = 0\n",
        " while x < 10:\n",
        "   print(x, end=' ')\n",
        "   x += 1"
      ],
      "metadata": {
        "colab": {
          "base_uri": "https://localhost:8080/"
        },
        "id": "AfTy7c1HU_0D",
        "outputId": "a0879318-c232-4d52-bb09-34cd7d75ebd0"
      },
      "execution_count": 25,
      "outputs": [
        {
          "output_type": "stream",
          "name": "stdout",
          "text": [
            "0 1 2 3 4 5 6 7 8 9 "
          ]
        }
      ]
    },
    {
      "cell_type": "markdown",
      "source": [
        "4. 1부터 10까지 정수의 합을 계산하여 출력하는 코드"
      ],
      "metadata": {
        "id": "UNUW1UywYW69"
      }
    },
    {
      "cell_type": "code",
      "source": [
        "x = 1\n",
        "total = 0\n",
        "while x <= 10:\n",
        "  total = total + x\n",
        "  x += 1\n",
        "print(total)"
      ],
      "metadata": {
        "colab": {
          "base_uri": "https://localhost:8080/"
        },
        "id": "EgLjZUa6YeaR",
        "outputId": "be0afc79-e8d0-4861-c822-23a1b71a381b"
      },
      "execution_count": 28,
      "outputs": [
        {
          "output_type": "stream",
          "name": "stdout",
          "text": [
            "55\n"
          ]
        }
      ]
    },
    {
      "cell_type": "code",
      "source": [
        "x = 1\n",
        "while x <= 10:\n",
        "  print(x)\n",
        "  x += 1"
      ],
      "metadata": {
        "colab": {
          "base_uri": "https://localhost:8080/"
        },
        "id": "T6vbaEu-Y5bO",
        "outputId": "a90f697e-220a-4091-9fe0-58000ba636f9"
      },
      "execution_count": 29,
      "outputs": [
        {
          "output_type": "stream",
          "name": "stdout",
          "text": [
            "1\n",
            "2\n",
            "3\n",
            "4\n",
            "5\n",
            "6\n",
            "7\n",
            "8\n",
            "9\n",
            "10\n"
          ]
        }
      ]
    },
    {
      "cell_type": "markdown",
      "source": [
        "5. 3-6-9 게임(3의 배수 판단): 3의 배수를 3으로 나누면 나머지가 0이 되므로 (i)이 0이면 박수를 출력, 아니면 숫자를 출력해주는 코드 작성"
      ],
      "metadata": {
        "id": "im9hLWuRV8pZ"
      }
    },
    {
      "cell_type": "code",
      "source": [
        "i = 0                                                                            # 변수 i는 0으로 선언\n",
        "while i <= 30:                                                                   # 반복문 while사용해서 i가 30보다 작거나 같을때\n",
        "  if i % 3 == 0:                                                                 # 만약 i값을 3으로 나눈 나머지가 0이면\n",
        "    print(\"박수\", end=' ')                                                       # 박수를 출력하고 공백을 하나 만듦\n",
        "  else:                                                                          # 위의 것이 아니면,\n",
        "    print(i, end=' ')                                                            # i값만 출력하고 공백 하나 만듦\n",
        "  i += 1                                                                         # 변수 i값에 i와 1을 더해서 다시 변수 i에 선언"
      ],
      "metadata": {
        "colab": {
          "base_uri": "https://localhost:8080/"
        },
        "id": "7LGaOKj5WF9V",
        "outputId": "395286d4-a9ac-4039-e043-5bdc56ab45ae"
      },
      "execution_count": 27,
      "outputs": [
        {
          "output_type": "stream",
          "name": "stdout",
          "text": [
            "박수 1 2 박수 4 5 박수 7 8 박수 10 11 박수 13 14 박수 16 17 박수 19 20 박수 22 23 박수 25 26 박수 28 29 박수 "
          ]
        }
      ]
    },
    {
      "cell_type": "code",
      "source": [
        "for num in range(1, 11):        # 1부터 11까지의 숫자를 반복\n",
        "  if num % 3 == 0:             # 숫자(num)를 3으로 나눈 나머지가 0인 경우\n",
        "    print(\"박수\", end=' ')     # 박수를 출력하고 공백 만듦\n",
        "  else:                        # 그게 아니면\n",
        "    print(num, end=' ')        # 숫자만 출력하고 공백 만듦"
      ],
      "metadata": {
        "colab": {
          "base_uri": "https://localhost:8080/"
        },
        "id": "uRjgU31qZMye",
        "outputId": "9d6447c3-fc5c-4f1b-d60a-f803d88f06cb"
      },
      "execution_count": 32,
      "outputs": [
        {
          "output_type": "stream",
          "name": "stdout",
          "text": [
            "1 2 박수 4 5 박수 7 8 박수 10 "
          ]
        }
      ]
    },
    {
      "cell_type": "markdown",
      "source": [
        "6. 팩토리얼 계산하는 코드 작성"
      ],
      "metadata": {
        "id": "DzHzISdnab7o"
      }
    },
    {
      "cell_type": "code",
      "source": [
        "i = 5\n",
        "factorial = 1\n",
        "while i >= 10:\n",
        "  factorial = factorial * i\n",
        "  i -= 1\n",
        "print(factorial)"
      ],
      "metadata": {
        "colab": {
          "base_uri": "https://localhost:8080/"
        },
        "id": "ndLw6W6zc7VP",
        "outputId": "2c70fbed-e5cf-44db-d12f-4ae5dce82b8b"
      },
      "execution_count": 38,
      "outputs": [
        {
          "output_type": "stream",
          "name": "stdout",
          "text": [
            "1\n"
          ]
        }
      ]
    },
    {
      "cell_type": "code",
      "source": [
        "num = int(input(\"팩토리얼 값입력: \"))\n",
        "factorial = 1\n",
        "while num >= 1:\n",
        "  factorial = factorial * num\n",
        "  num -= 1\n",
        "print(\"계산된 팩토리얼 값은 :\", factorial)"
      ],
      "metadata": {
        "colab": {
          "base_uri": "https://localhost:8080/"
        },
        "id": "joSF8dWJbm9X",
        "outputId": "9983de61-7918-4bcc-d7d8-9323daafb80a"
      },
      "execution_count": 37,
      "outputs": [
        {
          "output_type": "stream",
          "name": "stdout",
          "text": [
            "팩토리얼 값입력: 3\n",
            "계산된 팩토리얼 값은 : 6\n"
          ]
        }
      ]
    }
  ]
}