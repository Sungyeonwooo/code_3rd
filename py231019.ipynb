{
  "nbformat": 4,
  "nbformat_minor": 0,
  "metadata": {
    "colab": {
      "provenance": [],
      "authorship_tag": "ABX9TyOXIF5B7IwyO1dKCiVbX2Sk",
      "include_colab_link": true
    },
    "kernelspec": {
      "name": "python3",
      "display_name": "Python 3"
    },
    "language_info": {
      "name": "python"
    }
  },
  "cells": [
    {
      "cell_type": "markdown",
      "metadata": {
        "id": "view-in-github",
        "colab_type": "text"
      },
      "source": [
        "<a href=\"https://colab.research.google.com/github/Sungyeonwooo/code_3rd/blob/main/py231019.ipynb\" target=\"_parent\"><img src=\"https://colab.research.google.com/assets/colab-badge.svg\" alt=\"Open In Colab\"/></a>"
      ]
    },
    {
      "cell_type": "code",
      "execution_count": null,
      "metadata": {
        "id": "RJAaF3iQuJ5C"
      },
      "outputs": [],
      "source": [
        "1. To-Do-List를 작성하시오.\n",
        "  - 2023년 10월 19일 성연우\n",
        "  - (1) 09:20 도서관에서 책 빌리기\n",
        "  - (2) 11:10 컴퓨팅적 사고와 기초코딩 수업\n",
        "  - (3) 13:00 점심식사\n",
        "  - (4) 14:10 교양수업\n",
        "  - (5) 16:00 파이썬 공부 및 레포트 작성\n",
        "  - (6) 17:40 저녁식사 및 집안일 돕기\n",
        "  - (7) 19:00 fc온라인 하기"
      ]
    },
    {
      "cell_type": "code",
      "source": [
        "print(\"1. To-Do-List를 작성하시오.\")                           # To-Do-List를 작성하시오를 출력한다.\n",
        "print(\"  - 2023년 10월 19일 성연우\")                           # 2023년 10월 19일 성연우를 출력한다.\n",
        "print(\"  - (1) 09:20 도서관에서 책 빌리기\")                    # (1) 09:20 도서관에서 책 빌리기를 출력한다.\n",
        "print(\"  - (2) 11:10 컴퓨팅적 사고와 기초코딩 수업\")           # (2) 11:10 컴퓨팅적 사고와 기초코딩 수업를 출력한다.\n",
        "print(\"  - (3) 13:00 점심식사\")                                # (3) 13:00 점심식사를 출력한다.\n",
        "print(\"  - (4) 14:10 교양수업\")                                # (4) 14:10 교양수업를 출력한다.\n",
        "print(\"  - (5) 16:00 파이썬 공부 및 레포트 작성\")              # (5) 16:00 파이썬 공부 및 레포트 작성를 출력한다.\n",
        "print(\"  - (6) 17:40 저녁식사 및 집안일 돕기\")                 # (6) 17:40 저녁식사 및 집안일 돕기를 출력한다.\n",
        "print(\"  - (7) 19:00 fc온라인 하기\")                           # (7) 19:00 fc온라인 하기를 출력한다."
      ],
      "metadata": {
        "colab": {
          "base_uri": "https://localhost:8080/"
        },
        "id": "1dZpQrRuxqXo",
        "outputId": "7f3e0196-9f14-467c-ece6-65b3ea7c97c1"
      },
      "execution_count": null,
      "outputs": [
        {
          "output_type": "stream",
          "name": "stdout",
          "text": [
            "1. To-Do-List를 작성하시오.\n",
            "  - 2023년 10월 19일 성연우\n",
            "  - (1) 09:20 도서관에서 책 빌리기\n",
            "  - (2) 11:10 컴퓨팅적 사고와 기초코딩 수업\n",
            "  - (3) 13:00 점심식사\n",
            "  - (4) 14:10 교양수업\n",
            "  - (5) 16:00 파이썬 공부 및 레포트 작성\n",
            "  - (6) 17:40 저녁식사 및 집안일 돕기\n",
            "  - (7) 19:00 fc온라인 하기\n"
          ]
        }
      ]
    },
    {
      "cell_type": "markdown",
      "source": [
        "2. 인사말 출력하기\n",
        "  - 식사하셨습니까? 햄\n",
        "  "
      ],
      "metadata": {
        "id": "e-ZuF3QVwaGJ"
      }
    },
    {
      "cell_type": "code",
      "source": [
        "print(\"2. 인사말 출력하기\")               # 2. 인사말 출력하기를 출력한다.\n",
        "print(\"  - 식사하셨습니까? 햄\")           # - 식사하셨습니까? 햄를 출력한다."
      ],
      "metadata": {
        "colab": {
          "base_uri": "https://localhost:8080/"
        },
        "id": "9xrnIqB60-yf",
        "outputId": "b86562ad-2d91-49fc-bf64-2323bfea5663"
      },
      "execution_count": null,
      "outputs": [
        {
          "output_type": "stream",
          "name": "stdout",
          "text": [
            "2. 인사말 출력하기\n",
            "  - 식사하셨습니까? 햄\n"
          ]
        }
      ]
    },
    {
      "cell_type": "markdown",
      "source": [
        "3. 학생 4명의 국어점수를 입력받아서 아래와 같이 출력하시오.\n",
        "  - 박보검: 90점\n",
        "  - 션    : 92점\n",
        "  - 도룡뇽: 80점\n",
        "  - 차은우: 99점\n",
        "  - 국어 점수 순위\n",
        "  - 1등 차은우\n",
        "  - 2등 션\n",
        "  - 3등 박보검\n",
        "  - 4등 도룡뇽"
      ],
      "metadata": {
        "id": "5v4-Lx-RwtTm"
      }
    },
    {
      "cell_type": "code",
      "source": [
        "n1 = int(input(\" 박보검학생의 점수를 입력하시오. :\"))            # 박보검 학생의 점수를 입력받아 n1 변수에 저장합니다.\n",
        "n2 = int(input(\" 션학생의 점수를 입력하시오. :\"))                # 션 학생의 점수를 입력받아 n2 변수에 저장합니다.\n",
        "n3 = int(input(\" 도룡뇽학생의 점수를 입력하시오. :\"))            # 도룡뇽 학생의 점수를 입력받아 n3 변수에 저장합니다.\n",
        "n4 = int(input(\" 차은우학생의 점수를 입력하시오. :\"))            # 차은우 학생의 점수를 입력받아 n4 변수에 저장합니다.\n",
        "print(\"1등\",\"차은우\",n4)                                         # 1등 학생의 정보와 점수를 출력합니다.\n",
        "print(\"2등\",\"션\",n2)                                             # 2등 학생의 정보와 점수를 출력합니다.\n",
        "print(\"3등\",\"박보검\",n1)                                         # 3등 학생의 정보와 점수를 출력합니다.\n",
        "print(\"4등\",\"도룡뇽\",n3)                                         # 4등 학생의 정보와 점수를 출력합니다.\n",
        "\n"
      ],
      "metadata": {
        "colab": {
          "base_uri": "https://localhost:8080/"
        },
        "id": "V0G6ZN_X5j9A",
        "outputId": "b933d283-0690-4365-92fa-92f2cf8407aa"
      },
      "execution_count": null,
      "outputs": [
        {
          "output_type": "stream",
          "name": "stdout",
          "text": [
            " 박보검학생의 점수를 입력하시오. :90\n",
            " 션학생의 점수를 입력하시오. :92\n",
            " 도룡뇽학생의 점수를 입력하시오. :80\n",
            " 차은우학생의 점수를 입력하시오. :99\n",
            "1등 차은우 99\n",
            "2등 션 92\n",
            "3등 박보검 90\n",
            "4등 도룡뇽 80\n"
          ]
        }
      ]
    },
    {
      "cell_type": "markdown",
      "source": [
        "4. 두개의 점수를 입력받아서 합계와 평균을 출력하시오."
      ],
      "metadata": {
        "id": "cGGZ5Ec6xdaq"
      }
    },
    {
      "cell_type": "code",
      "source": [
        "n1 = int(input(\" 박보검의 값을 입력하시오.:\"))              # 박보검의 값을 입력받아 n1 변수에 저장합니다.\n",
        "n2 = int(input(\" 차은우의 값을 입력하시오.:\"))              # 차은우의 값을 입력받아 n2 변수에 저장합니다.\n",
        "total = n1 + n2                                             # n1과 n2의 합을 계산하여 total 변수에 저장합니다.\n",
        "average = total / 2                                         # total을 2로 나누어 평균을 계산하여 average 변수에 저장합니다.\n",
        "print(total)                                                # total 값을 출력합니다.\n",
        "print(average)                                              # average 값을 출력합니다."
      ],
      "metadata": {
        "colab": {
          "base_uri": "https://localhost:8080/"
        },
        "id": "uQZCDV0D4Vdn",
        "outputId": "dfe580a2-3480-4588-ee97-4fe1422cf17e"
      },
      "execution_count": null,
      "outputs": [
        {
          "output_type": "stream",
          "name": "stdout",
          "text": [
            " 박보검의 값을 입력하시오.:90\n",
            " 차은우의 값을 입력하시오.:99\n",
            "189\n",
            "94.5\n"
          ]
        }
      ]
    }
  ]
}