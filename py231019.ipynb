{
  "nbformat": 4,
  "nbformat_minor": 0,
  "metadata": {
    "colab": {
      "provenance": [],
      "authorship_tag": "ABX9TyOEnIc9Eot4yqaynE4M1H3d",
      "include_colab_link": true
    },
    "kernelspec": {
      "name": "python3",
      "display_name": "Python 3"
    },
    "language_info": {
      "name": "python"
    }
  },
  "cells": [
    {
      "cell_type": "markdown",
      "metadata": {
        "id": "view-in-github",
        "colab_type": "text"
      },
      "source": [
        "<a href=\"https://colab.research.google.com/github/Sungyeonwooo/code_3rd/blob/main/py231019.ipynb\" target=\"_parent\"><img src=\"https://colab.research.google.com/assets/colab-badge.svg\" alt=\"Open In Colab\"/></a>"
      ]
    },
    {
      "cell_type": "code",
      "execution_count": null,
      "metadata": {
        "id": "RJAaF3iQuJ5C"
      },
      "outputs": [],
      "source": [
        "1. To-Do-List를 작성하시오.\n",
        "  - 2023년 10월 19일 성연우\n",
        "  - (1) 09:20 도서관에서 책 빌리기\n",
        "  - (2) 11:10 컴퓨팅적 사고와 기초코딩 수업\n",
        "  - (3) 13:00 점심식사\n",
        "  - (4) 14:10 교양수업\n",
        "  - (5) 16:00 파이썬 공부 및 레포트 작성\n",
        "  - (6) 17:40 저녁식사 및 집안일 돕기\n",
        "  - (7) 19:00 fc온라인 하기"
      ]
    },
    {
      "cell_type": "code",
      "source": [
        "print(\"1. To-Do-List를 작성하시오.\")\n",
        "print(\"  - 2023년 10월 19일 성연우\")\n",
        "print(\"  - (1) 09:20 도서관에서 책 빌리기\")\n",
        "print(\"  - (2) 11:10 컴퓨팅적 사고와 기초코딩 수업\")\n",
        "print(\"  - (3) 13:00 점심식사\")\n",
        "print(\"  - (4) 14:10 교양수업\")\n",
        "print(\"  - (5) 16:00 파이썬 공부 및 레포트 작성\")\n",
        "print(\"  - (6) 17:40 저녁식사 및 집안일 돕기\")\n",
        "print(\"  - (7) 19:00 fc온라인 하기\")"
      ],
      "metadata": {
        "colab": {
          "base_uri": "https://localhost:8080/"
        },
        "id": "1dZpQrRuxqXo",
        "outputId": "7f3e0196-9f14-467c-ece6-65b3ea7c97c1"
      },
      "execution_count": 12,
      "outputs": [
        {
          "output_type": "stream",
          "name": "stdout",
          "text": [
            "1. To-Do-List를 작성하시오.\n",
            "  - 2023년 10월 19일 성연우\n",
            "  - (1) 09:20 도서관에서 책 빌리기\n",
            "  - (2) 11:10 컴퓨팅적 사고와 기초코딩 수업\n",
            "  - (3) 13:00 점심식사\n",
            "  - (4) 14:10 교양수업\n",
            "  - (5) 16:00 파이썬 공부 및 레포트 작성\n",
            "  - (6) 17:40 저녁식사 및 집안일 돕기\n",
            "  - (7) 19:00 fc온라인 하기\n"
          ]
        }
      ]
    },
    {
      "cell_type": "markdown",
      "source": [
        "2. 인사말 출력하기\n",
        "  - 식사하셨습니까? 햄\n",
        "  "
      ],
      "metadata": {
        "id": "e-ZuF3QVwaGJ"
      }
    },
    {
      "cell_type": "code",
      "source": [
        "print(\"2. 인사말 출력하기\")\n",
        "print(\"  - 식사하셨습니까? 햄\")"
      ],
      "metadata": {
        "colab": {
          "base_uri": "https://localhost:8080/"
        },
        "id": "9xrnIqB60-yf",
        "outputId": "b86562ad-2d91-49fc-bf64-2323bfea5663"
      },
      "execution_count": 10,
      "outputs": [
        {
          "output_type": "stream",
          "name": "stdout",
          "text": [
            "2. 인사말 출력하기\n",
            "  - 식사하셨습니까? 햄\n"
          ]
        }
      ]
    },
    {
      "cell_type": "code",
      "source": [
        "print(인사말 출력하기\n",
        "식사하셨습니까? 햄)"
      ],
      "metadata": {
        "colab": {
          "base_uri": "https://localhost:8080/",
          "height": 147
        },
        "id": "MSJB7oN-yXNO",
        "outputId": "14d6f8c6-52f1-4dc1-f7a0-766213ce5021"
      },
      "execution_count": 1,
      "outputs": [
        {
          "output_type": "error",
          "ename": "SyntaxError",
          "evalue": "ignored",
          "traceback": [
            "\u001b[0;36m  File \u001b[0;32m\"<ipython-input-1-4cb3433f5521>\"\u001b[0;36m, line \u001b[0;32m1\u001b[0m\n\u001b[0;31m    print(인사말 출력하기\u001b[0m\n\u001b[0m          ^\u001b[0m\n\u001b[0;31mSyntaxError\u001b[0m\u001b[0;31m:\u001b[0m invalid syntax. Perhaps you forgot a comma?\n"
          ]
        }
      ]
    },
    {
      "cell_type": "code",
      "source": [
        "print"
      ],
      "metadata": {
        "id": "DJjirCztx4DP"
      },
      "execution_count": null,
      "outputs": []
    },
    {
      "cell_type": "markdown",
      "source": [
        "3. 학생 4명의 국어점수를 입력받아서 아래와 같이 출력하시오.\n",
        "  - 박보검: 90점\n",
        "  - 션    : 92점\n",
        "  - 도룡뇽: 80점\n",
        "  - 차은우: 99점\n",
        "  - 국어 점수 순위\n",
        "  - 1등 차은우\n",
        "  - 2등 션\n",
        "  - 3등 박보검\n",
        "  - 4등 도룡뇽"
      ],
      "metadata": {
        "id": "5v4-Lx-RwtTm"
      }
    },
    {
      "cell_type": "code",
      "source": [
        "n1 = int(input(\" 박보검학생의 점수를 입력하시오. :\"))\n",
        "n2 = int(input(\" 션학생의 점수를 입력하시오. :\"))\n",
        "n3 = int(input(\" 도룡뇽학생의 점수를 입력하시오. :\"))\n",
        "n4 = int(input(\" 차은우학생의 점수를 입력하시오. :\"))\n",
        "print(\"1등\",\"차은우\",n4)\n",
        "print(\"2등\",\"션\",n2)\n",
        "print(\"3등\",\"박보검\",n1)\n",
        "print(\"4등\",\"도룡뇽\",n3)\n",
        "\n"
      ],
      "metadata": {
        "colab": {
          "base_uri": "https://localhost:8080/"
        },
        "id": "V0G6ZN_X5j9A",
        "outputId": "b933d283-0690-4365-92fa-92f2cf8407aa"
      },
      "execution_count": 36,
      "outputs": [
        {
          "output_type": "stream",
          "name": "stdout",
          "text": [
            " 박보검학생의 점수를 입력하시오. :90\n",
            " 션학생의 점수를 입력하시오. :92\n",
            " 도룡뇽학생의 점수를 입력하시오. :80\n",
            " 차은우학생의 점수를 입력하시오. :99\n",
            "1등 차은우 99\n",
            "2등 션 92\n",
            "3등 박보검 90\n",
            "4등 도룡뇽 80\n"
          ]
        }
      ]
    },
    {
      "cell_type": "code",
      "source": [
        "# @title 기본 제목 텍스트\n",
        "박보검 = int(input(\"박보검 \"))\n",
        "션 = int(input(\"92\"))\n",
        "도룡뇽 = int(input(\"차은우\"))\n",
        "차은우 = int(input(\"차은우\"))\n",
        "total = 박보검 + 션 + 도룡뇽 + 차은우\n",
        "average = total / 4\n",
        "print(average)"
      ],
      "metadata": {
        "id": "VNPtGCio3fai"
      },
      "execution_count": null,
      "outputs": []
    },
    {
      "cell_type": "markdown",
      "source": [
        "4. 두개의 점수를 입력받아서 합계와 평균을 출력하시오."
      ],
      "metadata": {
        "id": "cGGZ5Ec6xdaq"
      }
    },
    {
      "cell_type": "code",
      "source": [
        "n1 = int(input(\" 박보검의 값을 입력하시오.:\"))\n",
        "n2 = int(input(\" 차은우의 값을 입력하시오.:\"))\n",
        "total = n1 + n2\n",
        "average = total / 2\n",
        "print(total)\n",
        "print(average)"
      ],
      "metadata": {
        "colab": {
          "base_uri": "https://localhost:8080/"
        },
        "id": "uQZCDV0D4Vdn",
        "outputId": "dfe580a2-3480-4588-ee97-4fe1422cf17e"
      },
      "execution_count": 23,
      "outputs": [
        {
          "output_type": "stream",
          "name": "stdout",
          "text": [
            " 박보검의 값을 입력하시오.:90\n",
            " 차은우의 값을 입력하시오.:99\n",
            "189\n",
            "94.5\n"
          ]
        }
      ]
    },
    {
      "cell_type": "code",
      "source": [
        "# @title 기본 제목 텍스트\n",
        "박보검 = int(input(\"90\"))\n",
        "션 = int(input(\"92\"))\n",
        "도룡뇽 = int(input(\"차은우\"))\n",
        "차은우 = int(input(\"차은우\"))\n",
        "total = 박보검 + 션 + 도룡뇽 + 차은우\n",
        "average = total / 4\n",
        "print(average)"
      ],
      "metadata": {
        "colab": {
          "base_uri": "https://localhost:8080/",
          "height": 408
        },
        "id": "hva0y2gM2S04",
        "outputId": "50298a11-499f-4b0f-f6ab-45f02ef20ed4"
      },
      "execution_count": 14,
      "outputs": [
        {
          "output_type": "error",
          "ename": "KeyboardInterrupt",
          "evalue": "ignored",
          "traceback": [
            "\u001b[0;31m---------------------------------------------------------------------------\u001b[0m",
            "\u001b[0;31mKeyboardInterrupt\u001b[0m                         Traceback (most recent call last)",
            "\u001b[0;32m<ipython-input-14-3dee16d3b508>\u001b[0m in \u001b[0;36m<cell line: 2>\u001b[0;34m()\u001b[0m\n\u001b[1;32m      1\u001b[0m \u001b[0;31m# @title 기본 제목 텍스트\u001b[0m\u001b[0;34m\u001b[0m\u001b[0;34m\u001b[0m\u001b[0m\n\u001b[0;32m----> 2\u001b[0;31m \u001b[0m박보검\u001b[0m \u001b[0;34m=\u001b[0m \u001b[0mint\u001b[0m\u001b[0;34m(\u001b[0m\u001b[0minput\u001b[0m\u001b[0;34m(\u001b[0m\u001b[0;34m\"90\"\u001b[0m\u001b[0;34m)\u001b[0m\u001b[0;34m)\u001b[0m\u001b[0;34m\u001b[0m\u001b[0;34m\u001b[0m\u001b[0m\n\u001b[0m\u001b[1;32m      3\u001b[0m \u001b[0m션\u001b[0m \u001b[0;34m=\u001b[0m \u001b[0mint\u001b[0m\u001b[0;34m(\u001b[0m\u001b[0minput\u001b[0m\u001b[0;34m(\u001b[0m\u001b[0;34m\"92\"\u001b[0m\u001b[0;34m)\u001b[0m\u001b[0;34m)\u001b[0m\u001b[0;34m\u001b[0m\u001b[0;34m\u001b[0m\u001b[0m\n\u001b[1;32m      4\u001b[0m \u001b[0m도룡뇽\u001b[0m \u001b[0;34m=\u001b[0m \u001b[0mint\u001b[0m\u001b[0;34m(\u001b[0m\u001b[0minput\u001b[0m\u001b[0;34m(\u001b[0m\u001b[0;34m\"차은우\"\u001b[0m\u001b[0;34m)\u001b[0m\u001b[0;34m)\u001b[0m\u001b[0;34m\u001b[0m\u001b[0;34m\u001b[0m\u001b[0m\n\u001b[1;32m      5\u001b[0m \u001b[0m차은우\u001b[0m \u001b[0;34m=\u001b[0m \u001b[0mint\u001b[0m\u001b[0;34m(\u001b[0m\u001b[0minput\u001b[0m\u001b[0;34m(\u001b[0m\u001b[0;34m\"차은우\"\u001b[0m\u001b[0;34m)\u001b[0m\u001b[0;34m)\u001b[0m\u001b[0;34m\u001b[0m\u001b[0;34m\u001b[0m\u001b[0m\n",
            "\u001b[0;32m/usr/local/lib/python3.10/dist-packages/ipykernel/kernelbase.py\u001b[0m in \u001b[0;36mraw_input\u001b[0;34m(self, prompt)\u001b[0m\n\u001b[1;32m    849\u001b[0m                 \u001b[0;34m\"raw_input was called, but this frontend does not support input requests.\"\u001b[0m\u001b[0;34m\u001b[0m\u001b[0;34m\u001b[0m\u001b[0m\n\u001b[1;32m    850\u001b[0m             )\n\u001b[0;32m--> 851\u001b[0;31m         return self._input_request(str(prompt),\n\u001b[0m\u001b[1;32m    852\u001b[0m             \u001b[0mself\u001b[0m\u001b[0;34m.\u001b[0m\u001b[0m_parent_ident\u001b[0m\u001b[0;34m,\u001b[0m\u001b[0;34m\u001b[0m\u001b[0;34m\u001b[0m\u001b[0m\n\u001b[1;32m    853\u001b[0m             \u001b[0mself\u001b[0m\u001b[0;34m.\u001b[0m\u001b[0m_parent_header\u001b[0m\u001b[0;34m,\u001b[0m\u001b[0;34m\u001b[0m\u001b[0;34m\u001b[0m\u001b[0m\n",
            "\u001b[0;32m/usr/local/lib/python3.10/dist-packages/ipykernel/kernelbase.py\u001b[0m in \u001b[0;36m_input_request\u001b[0;34m(self, prompt, ident, parent, password)\u001b[0m\n\u001b[1;32m    893\u001b[0m             \u001b[0;32mexcept\u001b[0m \u001b[0mKeyboardInterrupt\u001b[0m\u001b[0;34m:\u001b[0m\u001b[0;34m\u001b[0m\u001b[0;34m\u001b[0m\u001b[0m\n\u001b[1;32m    894\u001b[0m                 \u001b[0;31m# re-raise KeyboardInterrupt, to truncate traceback\u001b[0m\u001b[0;34m\u001b[0m\u001b[0;34m\u001b[0m\u001b[0m\n\u001b[0;32m--> 895\u001b[0;31m                 \u001b[0;32mraise\u001b[0m \u001b[0mKeyboardInterrupt\u001b[0m\u001b[0;34m(\u001b[0m\u001b[0;34m\"Interrupted by user\"\u001b[0m\u001b[0;34m)\u001b[0m \u001b[0;32mfrom\u001b[0m \u001b[0;32mNone\u001b[0m\u001b[0;34m\u001b[0m\u001b[0;34m\u001b[0m\u001b[0m\n\u001b[0m\u001b[1;32m    896\u001b[0m             \u001b[0;32mexcept\u001b[0m \u001b[0mException\u001b[0m \u001b[0;32mas\u001b[0m \u001b[0me\u001b[0m\u001b[0;34m:\u001b[0m\u001b[0;34m\u001b[0m\u001b[0;34m\u001b[0m\u001b[0m\n\u001b[1;32m    897\u001b[0m                 \u001b[0mself\u001b[0m\u001b[0;34m.\u001b[0m\u001b[0mlog\u001b[0m\u001b[0;34m.\u001b[0m\u001b[0mwarning\u001b[0m\u001b[0;34m(\u001b[0m\u001b[0;34m\"Invalid Message:\"\u001b[0m\u001b[0;34m,\u001b[0m \u001b[0mexc_info\u001b[0m\u001b[0;34m=\u001b[0m\u001b[0;32mTrue\u001b[0m\u001b[0;34m)\u001b[0m\u001b[0;34m\u001b[0m\u001b[0;34m\u001b[0m\u001b[0m\n",
            "\u001b[0;31mKeyboardInterrupt\u001b[0m: Interrupted by user"
          ]
        }
      ]
    }
  ]
}